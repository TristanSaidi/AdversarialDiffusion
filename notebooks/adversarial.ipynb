{
 "cells": [
  {
   "cell_type": "code",
   "execution_count": null,
   "metadata": {
    "tags": []
   },
   "outputs": [],
   "source": [
    "import torch\n",
    "import os\n",
    "import torchvision\n",
    "import torchvision.transforms as transforms\n",
    "import matplotlib.pyplot as plt\n",
    "import matplotlib.animation as animation\n",
    "from torchvision import datasets\n",
    "from tqdm import tqdm\n",
    "os.chdir('../src')\n",
    "\n",
    "from models.diffusion import Diffusion, CondDiffusion\n",
    "from models.unet import Unet\n",
    "from models.condunet import condUnet\n",
    "\n",
    "reverse_transform = transforms.Compose([transforms.Lambda(lambda x: (x+1)/2), transforms.ToPILImage()])\n"
   ]
  },
  {
   "cell_type": "code",
   "execution_count": null,
   "metadata": {
    "tags": []
   },
   "outputs": [],
   "source": [
    "os.makedirs('../data/CIFAR10', exist_ok=True)\n",
    "\n",
    "dataset_train = datasets.CIFAR10(\n",
    "        root='../data/CIFAR10',\n",
    "        train=True,\n",
    "        download=True,\n",
    "        transform=transforms.Compose([transforms.Grayscale(), transforms.CenterCrop(28),transforms.ToTensor()])\n",
    "    )\n"
   ]
  },
  {
   "cell_type": "code",
   "execution_count": null,
   "metadata": {
    "tags": []
   },
   "outputs": [],
   "source": [
    "model_path = '../outputs/models/fashion_mnist_diffusion_epoch_19.pt'\n",
    "\n",
    "# model params\n",
    "device = torch.device('cuda:0' if torch.cuda.is_available() else 'mps')\n",
    "data_shape = (28, 28)\n",
    "channels = 1\n",
    "dim_mults = (1, 2, 4, )\n",
    "T = 300\n",
    "\n",
    "net = Unet(\n",
    "    dim=data_shape[0],\n",
    "    channels=channels,\n",
    "    dim_mults=dim_mults,\n",
    ")\n",
    "net.load_state_dict(torch.load(model_path))\n",
    "\n",
    "fashion_mnist_diffusion = Diffusion(\n",
    "    model=net,\n",
    "    data_shape=data_shape,\n",
    "    noise_schedule='linear',\n",
    "    T=T,\n",
    "    device=device,\n",
    ")"
   ]
  },
  {
   "cell_type": "code",
   "execution_count": null,
   "metadata": {
    "tags": []
   },
   "outputs": [],
   "source": [
    "### Adversarial attacks via backpropagation ###\n",
    "os.makedirs('../outputs/adversary', exist_ok=True)\n",
    "y_0 = torch.tensor([0], device=device)\n",
    "\n",
    "# y_1 = torch.tensor([1], device='mps')\n",
    "deterministic=False\n",
    "adversarial_target = dataset_train[3][0].to(device)\n",
    "\n",
    "# # plot the adversarial target\n",
    "plt.figure()\n",
    "plt.imshow(reverse_transform(adversarial_target.cpu()), cmap='gray')\n",
    "# plt.savefig('../outputs/adversary/adversarial_target.png')"
   ]
  },
  {
   "cell_type": "code",
   "execution_count": null,
   "metadata": {},
   "outputs": [],
   "source": [
    "### Adversarial attacks via single gradient step ###\n",
    "\n",
    "fashion_mnist_diffusion.zero_grad()\n",
    "noises = fashion_mnist_diffusion.explicit_sample(y_0)\n",
    "\n",
    "t = 250\n",
    "latent_noise = noises[fashion_mnist_diffusion.T - t]\n",
    "\n",
    "loss = torch.norm(noises[-1] - adversarial_target)\n",
    "grad = torch.autograd.grad(loss, latent_noise)[0]\n",
    "\n",
    "eps = 1e-2\n",
    "\n",
    "perturbed_latent = latent_noise - eps * grad\n",
    "x_t = perturbed_latent\n",
    "for i in reversed(range(0, t)):\n",
    "    t_cur = torch.tensor([i], device=device)\n",
    "    x_t = fashion_mnist_diffusion.sample_p_t_grad(x_t, t_cur, deterministic=deterministic)\n",
    "image = reverse_transform(x_t.squeeze(0).cpu())\n",
    "plt.imshow(image, cmap='gray')\n",
    "# plt.savefig(f'../outputs/adversary/decoded_adversarial_perturbation_t_{t}_eps_{j * eps}.png')"
   ]
  },
  {
   "cell_type": "code",
   "execution_count": null,
   "metadata": {},
   "outputs": [],
   "source": [
    "### Adversarial attacks via gradient descent on eps ###\n",
    "\n",
    "deterministic=False\n",
    "noises = fashion_mnist_diffusion.explicit_sample(deterministic=deterministic)\n",
    "adversarial_target = dataset_train[3][0].to(device)\n",
    "\n",
    "os.makedirs('../outputs/adversary/descent/unconditional', exist_ok=True)\n",
    "plt.figure()\n",
    "plt.imshow(reverse_transform(noises[-1].squeeze(0).cpu()), cmap='gray')\n",
    "plt.savefig(f'../outputs/adversary/descent/unconditional/original.png')\n",
    "\n",
    "plt.figure()\n",
    "plt.imshow(reverse_transform(adversarial_target.squeeze(0).cpu()), cmap='gray')\n",
    "plt.savefig(f'../outputs/adversary/descent/unconditional/adversarial_target.png')\n",
    "\n",
    "t = 50\n",
    "for t in range(50, 300, 50):\n",
    "    for noise in noises:\n",
    "        if noise.grad is not None:\n",
    "            noise.grad.zero_()\n",
    "    eps = 5\n",
    "    latent_noise = noises[fashion_mnist_diffusion.T - t]\n",
    "    x_t = noises[-1]\n",
    "\n",
    "    for ep in range(15):\n",
    "        fashion_mnist_diffusion.zero_grad()\n",
    "        loss = torch.norm(x_t - adversarial_target)\n",
    "        print('loss', loss.item())\n",
    "        grad = torch.autograd.grad(loss, latent_noise, retain_graph=True)[0]\n",
    "        latent_noise = latent_noise - eps * grad\n",
    "        x_t = latent_noise\n",
    "        for i in reversed(range(0, t)):\n",
    "            t_cur = torch.tensor([i], device=device)\n",
    "            x_t = fashion_mnist_diffusion.sample_p_t_grad(x_t, t_cur, deterministic=deterministic)\n",
    "\n",
    "    plt.figure()\n",
    "    image = reverse_transform(x_t.squeeze(0).cpu())\n",
    "    plt.imshow(image, cmap='gray')\n",
    "    plt.savefig(f'../outputs/adversary/descent/unconditional/perturbation_t_{t}.png')\n",
    "    del x_t"
   ]
  },
  {
   "cell_type": "code",
   "execution_count": null,
   "metadata": {},
   "outputs": [],
   "source": [
    "### Decoding from latent noise ###\n",
    "os.makedirs('../outputs/latent_noise', exist_ok=True)\n",
    "for t in range(0, 300, 50):\n",
    "    y_0 = torch.tensor([0], device='mps')\n",
    "\n",
    "    noise = torch.randn(1, 1, 28, 28).to(device)\n",
    "    x_t = noise\n",
    "    for i in reversed(range(0, t)):\n",
    "        t_cur = torch.tensor([i], device='mps')\n",
    "        x_t = fashion_mnist_diffusion.sample_p_t(x_t, t_cur)\n",
    "\n",
    "    image = reverse_transform(x_t.squeeze(0).cpu())\n",
    "    plt.imshow(image, cmap='gray')\n",
    "    plt.savefig(f'../outputs/latent_noise/decoded_latent_noise_t_{t}.png')"
   ]
  },
  {
   "cell_type": "code",
   "execution_count": null,
   "metadata": {},
   "outputs": [],
   "source": [
    "### Adversarial attacks via latent space interpolation ###\n",
    "os.makedirs('../outputs/adversary', exist_ok=True)\n",
    "y_0 = torch.tensor([0], device='mps')\n",
    "y_1 = torch.tensor([1], device='mps')\n",
    "deterministic=False\n",
    "\n",
    "noises = fashion_mnist_diffusion.explicit_sample(y_0)\n",
    "\n",
    "adversarial_target = fashion_mnist_cond_diffusion.sample(y_1).squeeze(0)"
   ]
  },
  {
   "cell_type": "code",
   "execution_count": null,
   "metadata": {},
   "outputs": [],
   "source": []
  }
 ],
 "metadata": {
  "kernelspec": {
   "display_name": "Python 3 (ipykernel)",
   "language": "python",
   "name": "python3"
  },
  "language_info": {
   "codemirror_mode": {
    "name": "ipython",
    "version": 3
   },
   "file_extension": ".py",
   "mimetype": "text/x-python",
   "name": "python",
   "nbconvert_exporter": "python",
   "pygments_lexer": "ipython3",
   "version": "3.8.10"
  }
 },
 "nbformat": 4,
 "nbformat_minor": 4
}
