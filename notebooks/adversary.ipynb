{
 "cells": [
  {
   "cell_type": "code",
   "execution_count": null,
   "metadata": {},
   "outputs": [],
   "source": [
    "import torch\n",
    "import os\n",
    "import torchvision\n",
    "import torchvision.transforms as transforms\n",
    "import matplotlib.pyplot as plt\n",
    "import matplotlib.animation as animation\n",
    "from tqdm import tqdm\n",
    "os.chdir('../src')\n",
    "\n",
    "from models.diffusion import Diffusion, CondDiffusion\n",
    "from models.unet import Unet\n",
    "from models.condunet import condUnet\n",
    "\n",
    "reverse_transform = transforms.Compose([transforms.Lambda(lambda x: (x+1)/2), transforms.ToPILImage()])\n"
   ]
  },
  {
   "cell_type": "code",
   "execution_count": null,
   "metadata": {},
   "outputs": [],
   "source": [
    "model_path = '../outputs/models/cond_fashion_mnist_diffusion_linear_sched_epoch_19.pt'\n",
    "\n",
    "# model params\n",
    "device = torch.device('cuda:0' if torch.cuda.is_available() else 'cpu')\n",
    "data_shape = (28, 28)\n",
    "channels = 1\n",
    "dim_mults = (1, 2, 4, )\n",
    "T = 300\n",
    "\n",
    "net = condUnet(\n",
    "    dim=data_shape[0],\n",
    "    channels=channels,\n",
    "    dim_mults=dim_mults,\n",
    "    num_classes=10,\n",
    ")\n",
    "net.load_state_dict(torch.load(model_path))\n",
    "\n",
    "fashion_mnist_cond_diffusion = CondDiffusion(\n",
    "    model=net,\n",
    "    data_shape=data_shape,\n",
    "    noise_schedule='linear',\n",
    "    T=T,\n",
    "    device=device,\n",
    ")"
   ]
  },
  {
   "cell_type": "code",
   "execution_count": null,
   "metadata": {},
   "outputs": [],
   "source": [
    "### Adversarial attacks via backpropagation ###\n",
    "os.makedirs('../outputs/adversary', exist_ok=True)\n",
    "y_0 = torch.tensor([0], device='cuda:0')\n",
    "y_1 = torch.tensor([1], device='cuda:0')\n",
    "deterministic=False\n",
    "\n",
    "noises = fashion_mnist_cond_diffusion.explicit_sample(y_0, deterministic=deterministic)\n",
    "adversarial_target = fashion_mnist_cond_diffusion.sample(y_1).squeeze(0)\n",
    "\n",
    "# # plot the adversarial target\n",
    "plt.figure()\n",
    "plt.imshow(reverse_transform(adversarial_target.cpu()), cmap='gray')\n",
    "plt.savefig('../outputs/adversary/adversarial_target.png')\n",
    "# # plot original image\n",
    "plt.figure()\n",
    "plt.imshow(reverse_transform(noises[-1].squeeze(0).cpu()), cmap='gray')\n",
    "plt.savefig('../outputs/adversary/original.png')"
   ]
  },
  {
   "cell_type": "code",
   "execution_count": null,
   "metadata": {},
   "outputs": [],
   "source": [
    "t = 250\n",
    "latent_noise = noises[fashion_mnist_cond_diffusion.T - t]\n",
    "\n",
    "loss = torch.norm(noises[-1] - adversarial_target)\n",
    "grad = torch.autograd.grad(loss, latent_noise)[0]\n",
    "\n",
    "eps = 1e-2\n",
    "\n",
    "for j in range(5):\n",
    "    perturbed_latent = latent_noise - j * eps * grad\n",
    "    x_t = perturbed_latent\n",
    "    for i in reversed(range(0, t)):\n",
    "        t_cur = torch.tensor([i], device='cuda:0')\n",
    "        x_t = fashion_mnist_cond_diffusion.sample_p_t_grad(x_t, t_cur, y_0, deterministic=deterministic)\n",
    "    image = reverse_transform(x_t.squeeze(0).cpu())\n",
    "    plt.imshow(image, cmap='gray')\n",
    "    plt.savefig(f'../outputs/adversary/decoded_adversarial_perturbation_t_{t}_eps_{j * eps}.png')"
   ]
  },
  {
   "cell_type": "code",
   "execution_count": null,
   "metadata": {},
   "outputs": [],
   "source": [
    "### Decoding from latent noise ###\n",
    "os.makedirs('../outputs/latent_noise', exist_ok=True)\n",
    "for t in range(0, 300, 50):\n",
    "    y_0 = torch.tensor([0], device='cuda:0')\n",
    "\n",
    "    noise = torch.randn(1, 1, 28, 28).to(device)\n",
    "    x_t = noise\n",
    "    for i in reversed(range(0, t)):\n",
    "        t_cur = torch.tensor([i], device='cuda:0')\n",
    "        x_t = fashion_mnist_cond_diffusion.sample_p_t(x_t, t_cur, y_0)\n",
    "\n",
    "    image = reverse_transform(x_t.squeeze(0).cpu())\n",
    "    plt.imshow(image, cmap='gray')\n",
    "    plt.savefig(f'../outputs/latent_noise/decoded_latent_noise_t_{t}.png')"
   ]
  },
  {
   "cell_type": "code",
   "execution_count": null,
   "metadata": {},
   "outputs": [],
   "source": [
    "### Adversarial attacks via latent space interpolation ###\n",
    "os.makedirs('../outputs/adversary', exist_ok=True)\n",
    "y_0 = torch.tensor([0], device='cuda:0')\n",
    "y_1 = torch.tensor([1], device='cuda:0')\n",
    "deterministic=False\n",
    "\n",
    "noises = fashion_mnist_cond_diffusion.explicit_sample(y_0, deterministic=deterministic)\n",
    "adversarial_target = fashion_mnist_cond_diffusion.sample(y_1).squeeze(0)"
   ]
  }
 ],
 "metadata": {
  "kernelspec": {
   "display_name": "torch",
   "language": "python",
   "name": "python3"
  },
  "language_info": {
   "codemirror_mode": {
    "name": "ipython",
    "version": 3
   },
   "file_extension": ".py",
   "mimetype": "text/x-python",
   "name": "python",
   "nbconvert_exporter": "python",
   "pygments_lexer": "ipython3",
   "version": "3.8.10"
  },
  "orig_nbformat": 4
 },
 "nbformat": 4,
 "nbformat_minor": 2
}
